{
 "cells": [
  {
   "cell_type": "markdown",
   "metadata": {},
   "source": [
    "# Cost-Sensitive-Classification\n",
    "\n",
    "Original notebook: https://github.com/richardangell/Python-Examples/blob/master/Cost-Sensitive-Classification.ipynb"
   ]
  },
  {
   "cell_type": "code",
   "execution_count": null,
   "metadata": {},
   "outputs": [],
   "source": [
    "# Import local bentoml repository\n",
    "import sys\n",
    "import os\n",
    "sys.path.insert(0, os.path.join(os.getcwd(), \"..\", \"..\"))\n",
    "import bentoml\n",
    "\n",
    "print(bentoml.__file__)"
   ]
  },
  {
   "cell_type": "code",
   "execution_count": null,
   "metadata": {},
   "outputs": [],
   "source": [
    "import pandas as pd\n",
    "import numpy as np\n",
    "import lightgbm as lgb\n",
    "from sklearn import metrics\n",
    "import os\n",
    "import zipfile\n",
    "import warnings\n",
    "import sklearn.exceptions\n"
   ]
  },
  {
   "cell_type": "code",
   "execution_count": null,
   "metadata": {},
   "outputs": [],
   "source": [
    "!curl -i https://github.com/somedadaism/CreditCardDefault/raw/master/data/UCI_Credit_Card.csv -o UCI_Credit_Card.csv"
   ]
  },
  {
   "cell_type": "code",
   "execution_count": null,
   "metadata": {},
   "outputs": [],
   "source": [
    "dataset = os.getcwd() + '/UCI_Credit_Card.csv'"
   ]
  },
  {
   "cell_type": "code",
   "execution_count": null,
   "metadata": {},
   "outputs": [],
   "source": [
    "credit_card = pd.read_csv(dataset)\n",
    "credit_card.head()"
   ]
  },
  {
   "cell_type": "code",
   "execution_count": null,
   "metadata": {},
   "outputs": [],
   "source": [
    "fraud_cost_matrix = np.array([[0, 1], [10, 0]])\n",
    "tn_cost, fp_cost, fn_cost, tp_cost = fraud_cost_matrix.ravel()\n",
    "credit_card['weights'] = 0\n",
    "credit_card.loc[credit_card['default.payment.next.month'] == 0, 'weights'] = fp_cost\n",
    "credit_card.loc[credit_card['default.payment.next.month'] == 1, 'weights'] = fn_cost"
   ]
  },
  {
   "cell_type": "markdown",
   "metadata": {},
   "source": [
    "#### Create sample column"
   ]
  },
  {
   "cell_type": "code",
   "execution_count": null,
   "metadata": {},
   "outputs": [],
   "source": [
    "np.random.seed(1)\n",
    "credit_card['samp'] = np.random.randint(low = 0, high = 6, size = credit_card.shape[0])\n",
    "credit_card['samp'].value_counts().sort_index()\n"
   ]
  },
  {
   "cell_type": "code",
   "execution_count": null,
   "metadata": {},
   "outputs": [],
   "source": [
    "weights_col = 'weights'\n",
    "response_col = 'default.payment.next.month'\n",
    "not_explanatory_cols = [response_col, weights_col] + \\\n",
    "                       ['ID', 'samp']"
   ]
  },
  {
   "cell_type": "markdown",
   "metadata": {},
   "source": [
    "### Create Light GBM datasets"
   ]
  },
  {
   "cell_type": "code",
   "execution_count": null,
   "metadata": {},
   "outputs": [],
   "source": [
    "explanatory_cols = list(set(credit_card.columns.values) - set(not_explanatory_cols))\n",
    "explanatory_cols.sort()\n",
    "len(explanatory_cols)"
   ]
  },
  {
   "cell_type": "code",
   "execution_count": null,
   "metadata": {},
   "outputs": [],
   "source": [
    "train_expl = credit_card.loc[credit_card.samp < 4, explanatory_cols]\n",
    "val_expl = credit_card.loc[credit_card.samp == 4, explanatory_cols]\n",
    "test_expl = credit_card.loc[credit_card.samp == 5, explanatory_cols]\n",
    "\n",
    "train_w = credit_card.loc[credit_card.samp < 4, weights_col]\n",
    "val_w = credit_card.loc[credit_card.samp == 4, weights_col]\n",
    "test_w = credit_card.loc[credit_card.samp == 5, weights_col]\n",
    "\n",
    "train_resp = credit_card.loc[credit_card.samp < 4, response_col]\n",
    "val_resp = credit_card.loc[credit_card.samp == 4, response_col]\n",
    "test_resp = credit_card.loc[credit_card.samp == 5, response_col]"
   ]
  },
  {
   "cell_type": "code",
   "execution_count": null,
   "metadata": {},
   "outputs": [],
   "source": [
    "lgb_train = lgb.Dataset(data = train_expl, label = train_resp)\n",
    "lgb_val = lgb.Dataset(data = val_expl, label = val_resp)\n",
    "lgb_test = lgb.Dataset(data = test_expl, label = test_resp)\n",
    "\n",
    "lgb_train_w = lgb.Dataset(data = train_expl, label = train_resp, weight = train_w)\n",
    "lgb_val_w = lgb.Dataset(data = val_expl, label = val_resp, weight = val_w)\n",
    "lgb_test_w = lgb.Dataset(data = test_expl, label = test_resp, weight = test_w)"
   ]
  },
  {
   "cell_type": "markdown",
   "metadata": {},
   "source": [
    "#### Build model"
   ]
  },
  {
   "cell_type": "code",
   "execution_count": null,
   "metadata": {},
   "outputs": [],
   "source": [
    "params = {\n",
    "    'boosting_type': 'gbdt',\n",
    "    'objective': 'binary',\n",
    "    'metric': 'binary_logloss',\n",
    "    'num_leaves': 31,\n",
    "    'learning_rate': 0.09,\n",
    "    'feature_fraction': 0.9,\n",
    "    'bagging_fraction': 0.8,\n",
    "    'bagging_freq': 5\n",
    "}\n",
    "evals_result_1 = {}\n",
    "gbm_1 = lgb.train(params,\n",
    "                  lgb_train,\n",
    "                  num_boost_round = 100,\n",
    "                  early_stopping_rounds = 5,\n",
    "                  valid_sets = [lgb_train, lgb_val],\n",
    "                  verbose_eval = False,\n",
    "                  evals_result = evals_result_1)"
   ]
  },
  {
   "cell_type": "code",
   "execution_count": null,
   "metadata": {},
   "outputs": [],
   "source": [
    "print('best iteration:', gbm_1.best_iteration)\n",
    "lgb.plotting.plot_metric(evals_result_1)"
   ]
  },
  {
   "cell_type": "markdown",
   "metadata": {},
   "source": [
    "#### Get prediction"
   ]
  },
  {
   "cell_type": "code",
   "execution_count": null,
   "metadata": {},
   "outputs": [],
   "source": [
    "val_pred = gbm_1.predict(val_expl, num_iteration = gbm_1.best_iteration)\n",
    "pd.Series(val_pred).plot('hist', bins = 50)\n"
   ]
  },
  {
   "cell_type": "code",
   "execution_count": null,
   "metadata": {},
   "outputs": [],
   "source": [
    "type(val_expl)"
   ]
  },
  {
   "cell_type": "markdown",
   "metadata": {},
   "source": [
    "# Export model using BentoML"
   ]
  },
  {
   "cell_type": "code",
   "execution_count": null,
   "metadata": {},
   "outputs": [],
   "source": [
    "%%writefile lightgbm_classification_service.py\n",
    "\n",
    "import pandas as pd\n",
    "import bentoml\n",
    "from bentoml.artifact import LightGBMArtifact\n",
    "from bentoml.handlers import DataframeHandler\n",
    "\n",
    "@bentoml.artifacts([LightGBMArtifact('gbm')])\n",
    "@bentoml.env(conda_dependencies=[\"lightgbm\", \"pandas\"])\n",
    "class LightGBMClassificationModel(bentoml.BentoService):\n",
    "\n",
    "    @bentoml.api(DataframeHandler, typ='series')\n",
    "    def predict(self, df):\n",
    "        \"\"\"\n",
    "        predict expects pandas.DataFrame as input\n",
    "        \"\"\"        \n",
    "        return self.artifacts.gbm.predict(df)"
   ]
  },
  {
   "cell_type": "code",
   "execution_count": null,
   "metadata": {},
   "outputs": [],
   "source": [
    "from lightgbm_classification_service import LightGBMClassificationModel\n",
    "\n",
    "# Initialize bentoML model with artifacts\n",
    "\n",
    "bento_model = LightGBMClassificationModel.pack(\n",
    "    gbm=gbm_1\n",
    ")\n",
    "\n",
    "# Save bentoML model to directory\n",
    "saved_path = bento_model.save(\"/tmp/bento\")\n",
    "\n",
    "# print the directory containing exported model archive (prefixed with model name and version)\n",
    "print(saved_path)"
   ]
  },
  {
   "cell_type": "code",
   "execution_count": null,
   "metadata": {},
   "outputs": [],
   "source": []
  }
 ],
 "metadata": {
  "kernelspec": {
   "display_name": "Python 3",
   "language": "python",
   "name": "python3"
  },
  "language_info": {
   "codemirror_mode": {
    "name": "ipython",
    "version": 3
   },
   "file_extension": ".py",
   "mimetype": "text/x-python",
   "name": "python",
   "nbconvert_exporter": "python",
   "pygments_lexer": "ipython3",
   "version": "3.7.2"
  }
 },
 "nbformat": 4,
 "nbformat_minor": 2
}
